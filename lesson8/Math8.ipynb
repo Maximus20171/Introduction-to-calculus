{
 "cells": [
  {
   "cell_type": "markdown",
   "metadata": {},
   "source": [
    "__1.__ Вычислить неопределенный интеграл\n",
    "\n",
    "### $$\\int \\frac{2x+3}{(x-2)(x+5)}\\,dx$$"
   ]
  },
  {
   "cell_type": "markdown",
   "metadata": {},
   "source": [
    "Решения:\n",
    "\n",
    "Если знаменатель рациональной дроби можно разложить на более простые, то саму дробь можно представить в виде суммы или разности более простых.\n",
    "\n",
    "### $\\frac{2x+3}{(x-2)(x+5)}=\\frac{A}{x-2}+\\frac{B}{x+5}=\\frac{A(x+5)+B(x-2)}{(x-2)(x+5)}=\\frac{Ax+5A+Bx-2B}{(x-2)(x+5)}$\n",
    "\n",
    "### $\\begin{cases}\n",
    "   A+B=2 \\\\\n",
    "   5A-2B=3 \n",
    " \\end{cases}\\,\\,\\,\\,\\,\\Rightarrow\\,\\,\\,\\,\\, \n",
    " \\begin{cases}\n",
    "   A=1 \\\\\n",
    "   B=1 \n",
    " \\end{cases}$\n",
    " \n",
    "### $ \\frac{2x+3}{(x-2)(x+5)}=\\frac{1}{x-2}+\\frac{1}{x+5}  $ ###\n",
    "\n",
    "### $\\int \\frac{2x+3}{(x-2)(x+5)}\\,dx= \\int \\frac{1}{x-2} \\,dx + \\int \\frac{1}{x+5} \\,dx = ln|x-2|+ln|x+5| + C=ln|x^2+3x-10|+C$\n"
   ]
  },
  {
   "cell_type": "markdown",
   "metadata": {},
   "source": [
    "__2.__ Вычислить неопределенный интеграл\n",
    "\n",
    "### $$\\int e^{2x}\\cos 3x\\,dx$$"
   ]
  },
  {
   "cell_type": "markdown",
   "metadata": {},
   "source": [
    "Решения:"
   ]
  },
  {
   "cell_type": "code",
   "execution_count": 61,
   "metadata": {},
   "outputs": [
    {
     "data": {
      "image/png": "[encoded data removed]",
      "text/latex": [
       "$\\displaystyle 2.71828182845905^{2 x} \\cos{\\left(3 x \\right)}$"
      ],
      "text/plain": [
       "                2⋅x         \n",
       "2.71828182845905   ⋅cos(3⋅x)"
      ]
     },
     "execution_count": 61,
     "metadata": {},
     "output_type": "execute_result"
    }
   ],
   "source": [
    "from sympy import *\n",
    "from math import e\n",
    "init_printing()\n",
    "x=Symbol('x')\n",
    "f=e**(2*x)*cos(3*x)\n",
    "f"
   ]
  },
  {
   "cell_type": "code",
   "execution_count": 62,
   "metadata": {},
   "outputs": [
    {
     "data": {
      "image/png": "[encoded data removed]",
      "text/latex": [
       "$\\displaystyle 0.230769230769231 \\cdot 2.71828182845905^{2 x} \\sin{\\left(3 x \\right)} + 0.153846153846154 \\cdot 2.71828182845905^{2 x} \\cos{\\left(3 x \\right)}$"
      ],
      "text/plain": [
       "                                  2⋅x                                         \n",
       "0.230769230769231⋅2.71828182845905   ⋅sin(3⋅x) + 0.153846153846154⋅2.718281828\n",
       "\n",
       "     2⋅x         \n",
       "45905   ⋅cos(3⋅x)"
      ]
     },
     "execution_count": 62,
     "metadata": {},
     "output_type": "execute_result"
    }
   ],
   "source": [
    "integrate(f,x)"
   ]
  },
  {
   "cell_type": "markdown",
   "metadata": {},
   "source": [
    "__3.__ Вычислить определенный интеграл\n",
    "\n",
    "### $$\\int\\limits_0^{\\ln2} xe^{-x}\\,dx$$"
   ]
  },
  {
   "cell_type": "code",
   "execution_count": null,
   "metadata": {},
   "outputs": [],
   "source": [
    "Решения:"
   ]
  },
  {
   "cell_type": "code",
   "execution_count": 63,
   "metadata": {},
   "outputs": [
    {
     "data": {
      "image/png": "[encoded data removed]",
      "text/latex": [
       "$\\displaystyle 2.71828182845905^{- x} x$"
      ],
      "text/plain": [
       "                -x  \n",
       "2.71828182845905  ⋅x"
      ]
     },
     "execution_count": 63,
     "metadata": {},
     "output_type": "execute_result"
    }
   ],
   "source": [
    "from sympy import *\n",
    "from math import e\n",
    "init_printing()\n",
    "x=Symbol('x')\n",
    "f=x*e**-x\n",
    "f"
   ]
  },
  {
   "cell_type": "code",
   "execution_count": 64,
   "metadata": {},
   "outputs": [
    {
     "data": {
      "image/png": "[encoded data removed]",
      "text/latex": [
       "$\\displaystyle \\frac{1.0 \\left(-1.0 - 1.0 \\log{\\left(2 \\right)}\\right)}{2.71828182845905^{\\log{\\left(2 \\right)}}} + 1.0$"
      ],
      "text/plain": [
       "                    -log(2)                          \n",
       "1.0⋅2.71828182845905       ⋅(-1.0 - 1.0⋅log(2)) + 1.0"
      ]
     },
     "execution_count": 64,
     "metadata": {},
     "output_type": "execute_result"
    }
   ],
   "source": [
    "integrate(f,(x,0,ln(2))) #аналитическое решение"
   ]
  },
  {
   "cell_type": "code",
   "execution_count": 73,
   "metadata": {},
   "outputs": [
    {
     "name": "stdout",
     "output_type": "stream",
     "text": [
      "(0.15342640972002733, 1.7033753265674727e-15)\n"
     ]
    }
   ],
   "source": [
    "from scipy import integrate\n",
    "from math import *\n",
    "\n",
    "func = lambda x: x*e**-x\n",
    " \n",
    "answer = integrate.quad(func, 0, ln(2))\n",
    "print(answer) #численное решение"
   ]
  },
  {
   "cell_type": "markdown",
   "metadata": {},
   "source": [
    "__3.__ Вычислить несобственный интеграл\n",
    "\n",
    "### $$\\int\\limits_2^{+\\infty} \\frac{dx}{x^2+x-2}$$"
   ]
  },
  {
   "cell_type": "code",
   "execution_count": 74,
   "metadata": {},
   "outputs": [
    {
     "data": {
      "image/png": "[encoded data removed]",
      "text/latex": [
       "$\\displaystyle \\frac{1}{x^{2} + x - 2}$"
      ],
      "text/plain": [
       "    1     \n",
       "──────────\n",
       " 2        \n",
       "x  + x - 2"
      ]
     },
     "execution_count": 74,
     "metadata": {},
     "output_type": "execute_result"
    }
   ],
   "source": [
    "from sympy import *\n",
    "from math import e\n",
    "init_printing()\n",
    "x=Symbol('x')\n",
    "f=1/(x**2+x-2)\n",
    "f"
   ]
  },
  {
   "cell_type": "code",
   "execution_count": 77,
   "metadata": {},
   "outputs": [
    {
     "data": {
      "image/png": "[encoded data removed]",
      "text/latex": [
       "$\\displaystyle \\frac{\\log{\\left(4 \\right)}}{3}$"
      ],
      "text/plain": [
       "log(4)\n",
       "──────\n",
       "  3   "
      ]
     },
     "execution_count": 77,
     "metadata": {},
     "output_type": "execute_result"
    }
   ],
   "source": [
    "integrate(f,(x,2,+oo)) #аналитическое решение"
   ]
  },
  {
   "cell_type": "code",
   "execution_count": 78,
   "metadata": {},
   "outputs": [
    {
     "name": "stdout",
     "output_type": "stream",
     "text": [
      "(0.4620981203732969, 8.305488729933592e-11)\n"
     ]
    }
   ],
   "source": [
    "from scipy import integrate\n",
    "from math import *\n",
    "\n",
    "func = lambda x: 1/(x**2+x-2)\n",
    " \n",
    "answer = integrate.quad(func, 2, +oo)\n",
    "print(answer) #численное решение"
   ]
  },
  {
   "cell_type": "markdown",
   "metadata": {},
   "source": [
    "__4*.__ Вычислить несобственный интеграл\n",
    "\n",
    "### $$\\int\\limits_0^{1} \\ln x\\,dx$$"
   ]
  },
  {
   "cell_type": "code",
   "execution_count": 79,
   "metadata": {},
   "outputs": [
    {
     "data": {
      "image/png": "[encoded data removed]",
      "text/latex": [
       "$\\displaystyle \\log{\\left(x \\right)}$"
      ],
      "text/plain": [
       "log(x)"
      ]
     },
     "execution_count": 79,
     "metadata": {},
     "output_type": "execute_result"
    }
   ],
   "source": [
    "from sympy import *\n",
    "from math import e\n",
    "init_printing()\n",
    "x=Symbol('x')\n",
    "f=ln(x)\n",
    "f"
   ]
  },
  {
   "cell_type": "code",
   "execution_count": 80,
   "metadata": {},
   "outputs": [
    {
     "data": {
      "image/png": "[encoded data removed]",
      "text/latex": [
       "$\\displaystyle -1$"
      ],
      "text/plain": [
       "-1"
      ]
     },
     "execution_count": 80,
     "metadata": {},
     "output_type": "execute_result"
    }
   ],
   "source": [
    "integrate(f,(x,0,1)) #аналитическое решение"
   ]
  },
  {
   "cell_type": "code",
   "execution_count": 81,
   "metadata": {},
   "outputs": [
    {
     "name": "stdout",
     "output_type": "stream",
     "text": [
      "(-1.0000000000000004, 1.6653345369377348e-15)\n"
     ]
    }
   ],
   "source": [
    "from scipy import integrate\n",
    "from math import *\n",
    "\n",
    "func = lambda x: ln(x)\n",
    " \n",
    "answer = integrate.quad(func, 0, 1)\n",
    "print(answer) #численное решение"
   ]
  },
  {
   "cell_type": "code",
   "execution_count": null,
   "metadata": {},
   "outputs": [],
   "source": []
  }
 ],
 "metadata": {
  "kernelspec": {
   "display_name": "Python 3",
   "language": "python",
   "name": "python3"
  },
  "language_info": {
   "codemirror_mode": {
    "name": "ipython",
    "version": 3
   },
   "file_extension": ".py",
   "mimetype": "text/x-python",
   "name": "python",
   "nbconvert_exporter": "python",
   "pygments_lexer": "ipython3",
   "version": "3.7.6"
  }
 },
 "nbformat": 4,
 "nbformat_minor": 4
}
