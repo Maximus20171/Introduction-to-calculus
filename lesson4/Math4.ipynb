{
 "cells": [
  {
   "cell_type": "markdown",
   "metadata": {},
   "source": [
    "__1.__ Найти производную функции:\n",
    "\n",
    "### $$y=\\frac{1}{x}+\\frac{2}{x^2}-\\frac{5}{x^3}+\\sqrt x -\\sqrt[3]x+\\frac{3}{\\sqrt x}$$"
   ]
  },
  {
   "cell_type": "markdown",
   "metadata": {},
   "source": [
    "Решение:\n",
    "### $ y'=( \\frac{1}{x}+\\frac{2}{x^2}-\\frac{5}{x^3}+\\sqrt x -\\sqrt[3]x+\\frac{3}{\\sqrt x})'= $\n",
    "### $= (x^{-1}+2x^{-2}-5x^{-3}+x^{\\frac{1}{2}}-x^{\\frac{1}{3}}+3x^{-\\frac{1}{2}})'=$\n",
    "### $= -x^{-2}-4x^{-3}+15x^{-4}+0.5x^{-\\frac{1}{2}}-\\frac{1}{3}x^{-\\frac{2}{3}}-1.5x^{-\\frac{3}{2}}=$\n",
    "### $= -\\frac{1}{x^2}-\\frac{4}{x^3}+\\frac{15}{x^4}+\\frac{1}{2\\sqrt x}-\\frac{1}{3\\sqrt[3]{x^2}}-\\frac{3}{2\\sqrt{x^3}}$"
   ]
  },
  {
   "cell_type": "markdown",
   "metadata": {},
   "source": [
    "__2.__ Найти производную функции:\n",
    "\n",
    "### $$y=x \\cdot \\sqrt {1+x^2}$$"
   ]
  },
  {
   "cell_type": "markdown",
   "metadata": {},
   "source": [
    "Решение:\n",
    "### $ y'=(x \\cdot \\sqrt {1+x^2})'=\\sqrt {1+x^2}+x \\cdot ((1+x^2)^{\\frac{1}{2}})'=$\n",
    "### $ = \\sqrt {1+x^2}+\\frac{x}{2}(1-x^2)^{-\\frac{1}{2}} \\cdot 2x$\n",
    "### $ = \\sqrt {1+x^2}+\\frac{x^2}{\\sqrt {1-x^2}}$"
   ]
  },
  {
   "cell_type": "markdown",
   "metadata": {},
   "source": [
    "__3.__ Найти производную функции:\n",
    "\n",
    "### $$y= \\frac{2x}{1-x^2}$$"
   ]
  },
  {
   "cell_type": "markdown",
   "metadata": {},
   "source": [
    "Решение:\n",
    "### $y'= (\\frac{2x}{1-x^2})'=\\frac{2 \\cdot (1-x^2)-2x\\cdot-2x}{(1-x^2)^2}=\\frac{2-2x^2+4x^2}{(1-x^2)^2}=\\frac{2+2x^2}{(1-x^2)^2} $"
   ]
  },
  {
   "cell_type": "markdown",
   "metadata": {},
   "source": [
    "__4*.__ Найти производную функции:\n",
    "\n",
    "### $$y=\\sqrt{x+ \\sqrt{x+\\sqrt x}}$$"
   ]
  },
  {
   "cell_type": "markdown",
   "metadata": {},
   "source": [
    "Решение:\n",
    "\n",
    "Считаем с конца:\n",
    "### $(\\sqrt x)'= \\frac{1}{2 \\sqrt x} $\n",
    "### $(\\sqrt {x+ \\sqrt{x}})'= (\\sqrt {x+ \\sqrt{x}})' \\cdot (x+\\sqrt{x})'=\\frac{1}{2\\sqrt {x+ \\sqrt{x}}} \\cdot (1+ \\frac{1}{2 \\sqrt x})=\\frac{\\frac{1}{2}+\\frac{1}{4\\sqrt x}}{\\sqrt {x+ \\sqrt{x}}} $\n",
    "\n",
    "### $(x+ \\sqrt{x+\\sqrt x})'=x'+(\\sqrt {x+ \\sqrt{x}})'=1+\\frac{\\frac{1}{2}+\\frac{1}{4\\sqrt x}}{\\sqrt {x+ \\sqrt{x}}}$\n",
    "\n",
    "### $(\\sqrt{x+ \\sqrt{x+\\sqrt x}})'= (x+ \\sqrt{x+\\sqrt x})' \\cdot (\\sqrt{x+ \\sqrt{x+\\sqrt x}})=$\n",
    "### $=(1+\\frac{\\frac{1}{2}+\\frac{1}{4\\sqrt x}}{\\sqrt {x+ \\sqrt{x}}}) \\cdot \\frac{1}{2 (\\sqrt{x+ \\sqrt{x+\\sqrt x}})}=$\n",
    "### $=\\frac{0.5+\\frac{\\frac{1}{2}+\\frac{1}{4\\sqrt x}}{2\\sqrt {x+ \\sqrt{x}}}}{\\sqrt{x+ \\sqrt{x+\\sqrt x}}}$"
   ]
  },
  {
   "cell_type": "markdown",
   "metadata": {},
   "source": [
    "__5.__ Найти производную функции:\n",
    "\n",
    "### $$y= \\ln(x+\\sqrt{x^2+1})$$"
   ]
  },
  {
   "cell_type": "markdown",
   "metadata": {},
   "source": [
    "Решение:\n",
    "### $ y'=\\frac{1}{x+\\sqrt{x^2+1}} \\cdot (1+\\frac{1}{2}(x^2+1)^{-\\frac{1}{2}} \\cdot 2x)=$ \n",
    "### $ =\\frac{1}{x+\\sqrt{x^2+1}} \\cdot (1+\\frac{1}{2}\\cdot \\frac{2x}{\\sqrt{x^2+1}})=$ \n",
    "### $ =\\frac{1}{x+\\sqrt{x^2+1}} \\cdot (\\frac{x+\\sqrt{x^2+1}}{\\sqrt{x^2+1}})=\\frac{1}{\\sqrt{x^2+1}}$"
   ]
  },
  {
   "cell_type": "markdown",
   "metadata": {},
   "source": [
    "__6.__ Найти производную функции:\n",
    "\n",
    "### $$y=x \\cdot \\ln(x+\\sqrt{x^2+1})-\\sqrt{x^2+1}$$"
   ]
  },
  {
   "cell_type": "markdown",
   "metadata": {},
   "source": [
    "Решение:\n",
    "### $y'= (x \\cdot \\ln(x+\\sqrt{x^2+1}))'-(\\sqrt{x^2+1})'= 1 \\cdot \\ln(x+\\sqrt{x^2+1})+x \\cdot \\frac{1}{\\sqrt{x^2+1}} - \\frac{x}{\\sqrt{x^2+1}} $ \n",
    "### $=\\ln(x+\\sqrt{x^2+1}) $ "
   ]
  },
  {
   "cell_type": "markdown",
   "metadata": {},
   "source": [
    "__7*.__ Найти производную функции:\n",
    "\n",
    "### $$y=\\arcsin (\\sin x)$$"
   ]
  },
  {
   "cell_type": "markdown",
   "metadata": {},
   "source": [
    "Решение:\n",
    "### $y'=\\frac{1}{\\sqrt{1-sin ^2 x}}\\cdot \\cos x= \\frac{\\cos x}{\\sqrt{1-sin ^2 x}} $"
   ]
  },
  {
   "cell_type": "markdown",
   "metadata": {},
   "source": [
    "__8*.__ Вычислить приближенное значение: \n",
    "\n",
    "### $$\\sin(1^0)=\\sin\\Bigl(\\frac{\\pi}{180}\\Bigr)$$\n"
   ]
  },
  {
   "cell_type": "markdown",
   "metadata": {},
   "source": [
    "Решение:\n",
    "### $ \\sin(0)=0 $\n",
    "### $ \\sin(1^0)=\\sin(0+\\frac{\\pi}{180})=\\sin(0)+\\cos(0) \\cdot \\frac{\\pi}{180}=\\frac{\\pi}{180}=0.01745.... $ "
   ]
  },
  {
   "cell_type": "code",
   "execution_count": null,
   "metadata": {},
   "outputs": [],
   "source": []
  },
  {
   "cell_type": "markdown",
   "metadata": {},
   "source": [
    "__9**.__ Написать на python алгоритм, по вычислению значений $\\sin(x)$ для $х \\in[0, 30^0]$"
   ]
  },
  {
   "cell_type": "code",
   "execution_count": 80,
   "metadata": {},
   "outputs": [],
   "source": [
    "from math import pi"
   ]
  },
  {
   "cell_type": "code",
   "execution_count": 102,
   "metadata": {},
   "outputs": [
    {
     "name": "stdout",
     "output_type": "stream",
     "text": [
      "Значение sin(2) равно  0.0349\n"
     ]
    }
   ],
   "source": [
    "x=2 ## здесь задаем значение радиана [0,30]\n",
    "\n",
    "## Вычсялем значение sin (x) в радианах. \n",
    "sin_x=pow(x*pi/180,5)/120-pow(x*pi/180,3)/6+x*pi/180\n",
    "\n",
    "print (f'Значение sin({x}) равно ', \"%.4f\"% sin_x)\n"
   ]
  },
  {
   "cell_type": "code",
   "execution_count": null,
   "metadata": {},
   "outputs": [],
   "source": []
  }
 ],
 "metadata": {
  "kernelspec": {
   "display_name": "Python 3",
   "language": "python",
   "name": "python3"
  },
  "language_info": {
   "codemirror_mode": {
    "name": "ipython",
    "version": 3
   },
   "file_extension": ".py",
   "mimetype": "text/x-python",
   "name": "python",
   "nbconvert_exporter": "python",
   "pygments_lexer": "ipython3",
   "version": "3.7.6"
  }
 },
 "nbformat": 4,
 "nbformat_minor": 4
}
