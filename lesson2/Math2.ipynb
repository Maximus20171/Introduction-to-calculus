{
 "cells": [
  {
   "cell_type": "markdown",
   "metadata": {},
   "source": [
    "__1.__ Найти предел последовательности:\n",
    "\n",
    "### $$а)\\,\\,\\,\\,\\lim_{n\\to \\infty} \\frac{(23-2n^2)(3n^2+17)^2}{4n^6+n-1}$$"
   ]
  },
  {
   "cell_type": "markdown",
   "metadata": {},
   "source": [
    "### $ \\frac{(23-2n^2)(3n^4+102n^2+289)}{4n^6+n-1} = \\frac{69n^4+2346n^2+6647-6n^6-204n^4-578n^2}{4n^6+n-1} $\n",
    "\n",
    "коэф-ты перед n c самыми большими степенями -6 и 4. Т.е. предел = $ \\frac{-6}{4}=\\frac{-3}{2} $"
   ]
  },
  {
   "cell_type": "markdown",
   "metadata": {},
   "source": [
    "### $$б)\\,\\,\\,\\,\\lim_{n\\to \\infty} \\frac{(97-2n)^3}{2n(3n^2+15)+8n}$$"
   ]
  },
  {
   "cell_type": "markdown",
   "metadata": {},
   "source": [
    "раскрываем скобки:\n",
    "### $ \\frac{912673-3*9409*2n+3*97*4n^2-8n^3}{6n^3+30n+8n} $\n",
    "\n",
    "коэф-ты перед n c самыми большими степенями -8 и 6. Т.е. предел = $ \\frac{-8}{6}=\\frac{-4}{3} $"
   ]
  },
  {
   "cell_type": "markdown",
   "metadata": {},
   "source": [
    "### $$в)\\,\\,\\,\\,\\lim_{n\\to \\infty} \\frac{2n^3+13n(n+18)}{(27-n)(2n+19)^2}$$"
   ]
  },
  {
   "cell_type": "markdown",
   "metadata": {},
   "source": [
    "самое большая степень 3. коэф-т в числителе равен 2 ($2n^3$), в знаменателе -4 ($-4n^2*n$). Т.е предел =$ -\\frac{2}{4}=-\\frac{1}{2} $"
   ]
  },
  {
   "cell_type": "markdown",
   "metadata": {},
   "source": [
    "### $$г)\\,\\,\\,\\,\\lim_{n\\to \\infty} (\\sqrt{n^2+1}-n)$$"
   ]
  },
  {
   "cell_type": "markdown",
   "metadata": {},
   "source": [
    "### $(\\sqrt{n^2+1}-{n})\\cdot\\frac{\\sqrt{n^2+1}+{n}}{\\sqrt{n^2+1}+n}=\\frac{n^2+1-n^2}{\\sqrt{n^2+1}+n} $\n",
    "\n",
    "### предел $ \\frac{1}{\\sqrt{n^2+1}+{n}}=\\Bigl(\\frac{1}{\\infty}\\Bigr)=0 $\n"
   ]
  },
  {
   "cell_type": "markdown",
   "metadata": {},
   "source": [
    "### $$д)\\,\\,\\,\\,\\lim_{n\\to \\infty} \\frac{(-4)^n+5\\cdot7^n}{(-4)^{n-1}+7^{n+2}}$$"
   ]
  },
  {
   "cell_type": "markdown",
   "metadata": {},
   "source": [
    "### $ \\frac{7^n((-\\frac{4}{7})^n+5)}{7^n((-\\frac{4}{49})^{n-1}+7^2))} $\n",
    "\n",
    "предел равен $ \\frac{5}{49} $"
   ]
  },
  {
   "cell_type": "markdown",
   "metadata": {},
   "source": [
    "### $$e)^*\\,\\,\\,\\,\\lim_{n\\to \\infty} \\Bigl(\\frac{1}{1\\cdot2}+\\frac{1}{2\\cdot3}+\\frac{1}{3\\cdot4}+...+\\frac{1}{(n-1)\\cdot n}\\Bigr)$$"
   ]
  },
  {
   "cell_type": "markdown",
   "metadata": {},
   "source": [
    "при n = 2  мы получаем самое большое значаение 1/(n-1)n = 1/2\n",
    "1/2+1/2 =1 т.е. пределе при бесконечном n стремиться к 1"
   ]
  },
  {
   "cell_type": "code",
   "execution_count": null,
   "metadata": {},
   "outputs": [],
   "source": []
  },
  {
   "cell_type": "markdown",
   "metadata": {},
   "source": [
    "__2.__ Представьте $1$ в виде суммы трех рациональных дробей с разными знаменателями и числителем равным $1$."
   ]
  },
  {
   "cell_type": "markdown",
   "metadata": {},
   "source": [
    "Как из предведущего урока зщнаем 0.(9) можно приравнаять к 1 в теории множеств. в преведущем примере видно что предел последовательности сумм дробей равен $1$ т.е можно предположить, что можно взять оттуда дроби:. Возьмем ближайшие:\n",
    "\n",
    "Предтавим каждый в виде дроби получаем 1=0.(9)= $ \\frac{1}{2}+ \\frac{1}{6}+ x$ решая уравнение получаем $x = \\frac {1}{3}$, что подходит под условия задачи\n",
    "\n",
    "\n",
    "ИТОГО: $$ 1 = \\frac{1}{2}+ \\frac{1}{3}+\\frac{1}{6}$$"
   ]
  },
  {
   "cell_type": "markdown",
   "metadata": {},
   "source": [
    "__3$^*$.__ Тоже задание, только в виде суммы шести дробей."
   ]
  },
  {
   "cell_type": "markdown",
   "metadata": {},
   "source": [
    "представим 1 в виде суммы 4-ех дробей.\n",
    "$1=\\frac{1}{2}+\\frac{1}{4}+\\frac{1}{6}+\\frac{1}{12}$\n",
    "\n",
    "выразим самую маленьку дробь как 1/a=1/2a+1/3a+1/6a Т.е.\n",
    "\n",
    "$$ \\frac{1}{12}= \\frac{1}{24}+\\frac{1}{36}+\\frac{1}{72}$$\n",
    "\n",
    "ИТОГО:\n",
    "$$ 1=\\frac{1}{2}+\\frac{1}{4}+\\frac{1}{6}+\\frac{1}{24}+\\frac{1}{36}+\\frac{1}{72}$$\n"
   ]
  },
  {
   "cell_type": "markdown",
   "metadata": {},
   "source": []
  },
  {
   "cell_type": "markdown",
   "metadata": {},
   "source": [
    "__4.__ Пользуясь критерием Коши, докажите сходимость последовательности:\n",
    "\n",
    "### $$a_n=\\frac{\\sin1}{2}+\\frac{\\sin2}{2^2}+\\frac{\\sin3}{2^3}+..\\frac{\\sin n}{2^n}\\,\\,\\,\\,\\,\\Rightarrow$$\n",
    "\n",
    "### $$\\Bigl\\{a_n\\Bigr\\}_{n=1}^\\infty=\\Bigl\\{\\frac{\\sin1}{2}, \\frac{\\sin1}{2}+\\frac{\\sin2}{2^2}, ..., a_n,...\\Bigr\\}$$\n",
    "\n",
    "\n",
    "$^*$ Какой член последовательности можно взять в качестве предела с точностью $\\varepsilon=10^{-7}$?"
   ]
  },
  {
   "cell_type": "markdown",
   "metadata": {},
   "source": [
    "### решение:\n",
    "### $$a_n=\\frac{\\sin1}{2}+\\frac{\\sin2}{2^2}+\\frac{\\sin3}{2^3}+..\\frac{\\sin n}{2^n}\\,\\,\\,\\,\\,\\Rightarrow$$\n"
   ]
  },
  {
   "cell_type": "markdown",
   "metadata": {},
   "source": [
    "### $$|a_n-a_{n+k}|=\\Bigl|(\\frac{\\sin 1}{2}+...+\\frac{\\sin n}{2^n})-(\\frac{\\sin 1}{2}+...+\\frac{\\sin {n+k}}{2^{n+k}}) \\Bigr| $$\n",
    "\n",
    "$$ =\\Bigl|-\\frac{\\sin{n+1}}{2^{n+1}}-...-\\frac{\\sin{n+k}}{2^{n+k}}\\Bigr|=$$\n",
    "\n",
    "$$ =\\frac{\\sin{n}}{2^{n}} \\Bigl|\\frac{\\sin 1}{2}+...+\\frac{\\sin{k}}{2^{k}}\\Bigr|=$$"
   ]
  },
  {
   "cell_type": "markdown",
   "metadata": {},
   "source": [
    "__5$^*$.__  Пользуясь критерием Коши, докажите расходимость последовательности:\n",
    "\n",
    "### $$b_n=1+\\frac{1}{2}+\\frac{1}{3}+..\\frac{1}{n}\\,\\,\\,\\,\\,\\Rightarrow$$\n",
    "\n",
    "### $$\\Bigl\\{b_n\\Bigr\\}_{n=1}^\\infty=\\Bigl\\{1, 1+\\frac{1}{2},1+\\frac{1}{2}+\\frac{1}{3}, ..., b_n,...\\Bigr\\}$$"
   ]
  },
  {
   "cell_type": "code",
   "execution_count": null,
   "metadata": {},
   "outputs": [],
   "source": []
  }
 ],
 "metadata": {
  "kernelspec": {
   "display_name": "Python 3",
   "language": "python",
   "name": "python3"
  },
  "language_info": {
   "codemirror_mode": {
    "name": "ipython",
    "version": 3
   },
   "file_extension": ".py",
   "mimetype": "text/x-python",
   "name": "python",
   "nbconvert_exporter": "python",
   "pygments_lexer": "ipython3",
   "version": "3.7.6"
  }
 },
 "nbformat": 4,
 "nbformat_minor": 4
}
