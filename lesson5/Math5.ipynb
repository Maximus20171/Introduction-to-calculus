{
 "cells": [
  {
   "cell_type": "markdown",
   "metadata": {},
   "source": [
    "__1.__ Найти производную $y'_{x}$ функции:\n",
    "\n",
    "### $$\\mbox{arctg}(\\frac{y}{x})=\\ln \\sqrt{x^2+y^2}$$"
   ]
  },
  {
   "cell_type": "markdown",
   "metadata": {},
   "source": [
    "Решение:\n",
    "\n",
    "### $\\frac{1}{1+(\\frac{y}{x})^2}\\cdot \\frac{y'\\cdot x-y}{x^2} =\\frac{1}{2}\\cdot \\frac{1}{x^2+y^2} \\cdot (2x+2y\\cdot y')$\n",
    "### $\\frac{y'\\cdot x-y}{x^2+y^2}=\\frac{1}{2}\\cdot \\frac{2x+2y\\cdot y'}{x^2+y^2}$\n",
    "### $y'\\cdot x - y = x+ y \\cdot y'$\n",
    "### $y' \\cdot (2x-2y)=2x+2y$\n",
    "### $y'=\\frac{x+y}{x-y}$"
   ]
  },
  {
   "cell_type": "markdown",
   "metadata": {},
   "source": [
    "__2.__ Найти производную $y'_{x}$ функции:\n",
    "\n",
    "### \\begin{cases}\n",
    "   y=\\frac{t^2}{t-1}, \\\\\n",
    "   x=\\frac{t}{t^2-1} \n",
    " \\end{cases}"
   ]
  },
  {
   "cell_type": "markdown",
   "metadata": {},
   "source": [
    "Решение:\n",
    "### $ y'_{x}=\\frac{y'_{t}}{x_{t}}$\n",
    "### $ (\\frac{t^2}{t-1})'=\\frac{2t(t-1)-t^2}{(t-1)^2}$\n",
    "### $ (\\frac{t}{t^2-1})'=\\frac{(t^2-1)-t \\cdot 2t}{(t^2-1)^2}$\n",
    "### $ (\\frac{t}{t^2-1})'=\\frac{(t^2-1)-t \\cdot 2t}{(t^2-1)^2}$\n",
    "### $ y'_{x}=\\frac{y'_{t}}{x_{t}}=\\frac{2t(t-1)-t^2}{(t-1)^2} \\cdot \\frac{(t^2-1)^2}{(t^2-1)-t \\cdot 2t}= \\frac{t^2-2t}{(t-1)^2} \\cdot \\frac{(t^2-1)^2}{-t^2-1}$"
   ]
  },
  {
   "cell_type": "markdown",
   "metadata": {},
   "source": [
    "__3.__ Найти производную с помощью логарифмирования:\n",
    "\n",
    "### $$y=(x^2+2)^5\\cdot(3x-x^3)^3$$"
   ]
  },
  {
   "cell_type": "markdown",
   "metadata": {},
   "source": [
    "Решение:\n",
    "### $ y'=(x^2+2)^5\\cdot(3x-x^3)^3 \\cdot (\\frac {5\\cdot2x}{x^2+2} + \\frac{3\\cdot(3-3x^2)}{3x-x^3})=$\n",
    "\n",
    "### $= (x^2+2)^5\\cdot(3x-x^3)^3 \\cdot (\\frac {10x}{x^2+2} + \\frac{9-9x^2}{3x-x^3})$"
   ]
  },
  {
   "cell_type": "markdown",
   "metadata": {},
   "source": [
    "__4.__ Найти производную функции с помощью логарифмирования:\n",
    "\n",
    "### $$y=x^x$$"
   ]
  },
  {
   "cell_type": "markdown",
   "metadata": {},
   "source": [
    "Решение:\n",
    "### $y'=f(x)\\cdot (\\ln f(x))'$\n",
    "\n",
    "### $y'=x^x\\cdot(x\\cdot\\ln x)'=x^x\\cdot(1\\cdot\\ln x+x\\cdot\\frac{1}{x})=x^x\\cdot(\\ln x+1)$\n"
   ]
  },
  {
   "cell_type": "markdown",
   "metadata": {},
   "source": [
    "__5.__ Найти производную функции с помощью логарифмирования:\n",
    "\n",
    "### $$y=\\frac{(2-x^2)^3\\cdot(x-1)^2}{(2x^3-3x)\\cdot e^x}$$"
   ]
  },
  {
   "cell_type": "markdown",
   "metadata": {},
   "source": [
    "Решение:\n",
    "### $y'=f(x)\\cdot (\\ln f(x))'$\n",
    "### $y'=\\frac{(2-x^2)^3\\cdot(x-1)^2}{(2x^3-3x)\\cdot e^x}\\cdot\\Bigr(\\frac{-6x}{2-x^2}+\\frac{2}{x-1}-\\frac{6x^2-3}{2x^3-3x}-1\\Bigl)$"
   ]
  },
  {
   "cell_type": "markdown",
   "metadata": {},
   "source": [
    "__6*.__ Вывести табличное значение производной для функции\n",
    "\n",
    "### $$\\mbox{arctg}(x)$$"
   ]
  },
  {
   "cell_type": "markdown",
   "metadata": {},
   "source": [
    "Решение:\n",
    "\n",
    "Пусть $y=\\mbox{arctg}(x)$, тогда\n",
    "\n",
    "### $y'_{x}=\\frac{1}{x'_{y}}=\\frac{1}{(\\mbox{tg} y)'_{y}}=\\cos^2 y$\n",
    "### $\\mbox{tg} y=\\frac{\\sin y}{\\cos y}$\n",
    "### $\\mbox{tg}^2 y=\\frac{\\sin^2 y}{\\cos^2 y}=\\frac{1-\\cos^2 y}{\\cos^2 y}$\n",
    "### $\\mbox{tg}^2 y=\\frac{1-\\cos^2 y}{\\cos^2 y}$\n",
    "### $\\mbox{tg}^2 y \\cdot\\cos^2 y=1-\\cos^2 y$\n",
    "### $(1+\\mbox{tg}^2 y)\\cdot\\cos^2 y=1$\n",
    "### $\\cos^2 y=\\frac{1}{1+\\mbox{tg}^2 y}$\n",
    "\n",
    "Итого:\n",
    "\n",
    "### $y'_{x}=\\cos^2 y=\\frac{1}{1+\\mbox{tg}^2 y}=\\frac{1}{1+\\mbox{tg}^2 (\\mbox{arctg}(x))}=\\frac{1}{1+x^2}$\n"
   ]
  },
  {
   "cell_type": "markdown",
   "metadata": {},
   "source": [
    "__7.__ Найти длину $𝑥$ и ширину $𝑦$ прямоугольника при заданном периметре $𝑃=144$ cм, при которых данный прямоугольник имеет наибольшую площадь $𝑆$."
   ]
  },
  {
   "cell_type": "markdown",
   "metadata": {},
   "source": [
    "Решение:\n",
    "\n",
    "#### $ P= 2(x + y) $\n",
    "#### $ S= x \\cdot y $\n",
    "$P= 2(x + y)=144 \\Rightarrow P= x + y=72 \\Rightarrow y=72-x$\n",
    "\n",
    "$ S= x \\cdot y \\Rightarrow S=x \\cdot (72-x)=72x-x^2$\n",
    "\n",
    "Производная равна $S'=72-2x$\n",
    "\n",
    "Эксремумы:\n",
    "$S'=72-2x=0 \\Rightarrow x=36$\n",
    "\n",
    "При этом x<36 S'>0 (т.е. функция возрастает), а при x>36 S'<0 (т.е. функция убывает). Т.е. 36 - Максимум. Выходит при x=36 площать прямоугольника максимальная.\n",
    "\n",
    "y=72-36=36\n",
    "\n",
    "Т.е. x=y=36 (Квадрат)\n"
   ]
  },
  {
   "cell_type": "code",
   "execution_count": null,
   "metadata": {},
   "outputs": [],
   "source": []
  },
  {
   "cell_type": "code",
   "execution_count": null,
   "metadata": {},
   "outputs": [],
   "source": []
  }
 ],
 "metadata": {
  "kernelspec": {
   "display_name": "Python 3",
   "language": "python",
   "name": "python3"
  },
  "language_info": {
   "codemirror_mode": {
    "name": "ipython",
    "version": 3
   },
   "file_extension": ".py",
   "mimetype": "text/x-python",
   "name": "python",
   "nbconvert_exporter": "python",
   "pygments_lexer": "ipython3",
   "version": "3.7.6"
  }
 },
 "nbformat": 4,
 "nbformat_minor": 4
}
