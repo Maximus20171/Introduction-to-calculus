{
 "cells": [
  {
   "cell_type": "markdown",
   "metadata": {},
   "source": [
    "__1.__ Найти производную $y'_{x}$ функции:\n",
    "\n",
    "### $$\\mbox{arctg}(\\frac{y}{x})=\\ln \\sqrt{x^2+y^2}$$"
   ]
  },
  {
   "cell_type": "markdown",
   "metadata": {},
   "source": [
    "Решение:\n",
    "### $\\mbox{arctg}(\\frac{y}{x})-\\ln \\sqrt{x^2+y^2}=0$"
   ]
  },
  {
   "cell_type": "code",
   "execution_count": 4,
   "metadata": {},
   "outputs": [],
   "source": [
    "from sympy import *\n",
    "import math\n",
    "init_printing()"
   ]
  },
  {
   "cell_type": "code",
   "execution_count": 6,
   "metadata": {},
   "outputs": [
    {
     "data": {
      "image/png": "[encoded data removed]",
      "text/latex": [
       "$\\displaystyle - \\log{\\left(\\sqrt{x^{2} + y^{2}} \\right)} + \\operatorname{atan}{\\left(\\frac{x}{y} \\right)}$"
      ],
      "text/plain": [
       "     ⎛   _________⎞          \n",
       "     ⎜  ╱  2    2 ⎟       ⎛x⎞\n",
       "- log⎝╲╱  x  + y  ⎠ + atan⎜─⎟\n",
       "                          ⎝y⎠"
      ]
     },
     "execution_count": 6,
     "metadata": {},
     "output_type": "execute_result"
    }
   ],
   "source": [
    "x,y=symbols('x y')\n",
    "f=atan(x/y)-ln(sqrt(pow(x,2)+pow(y,2)))\n",
    "f"
   ]
  },
  {
   "cell_type": "code",
   "execution_count": 7,
   "metadata": {},
   "outputs": [
    {
     "data": {
      "image/png": "[encoded data removed]",
      "text/latex": [
       "$\\displaystyle \\frac{\\frac{x}{x^{2} + y^{2}} - \\frac{1}{y \\left(\\frac{x^{2}}{y^{2}} + 1\\right)}}{- \\frac{x}{y^{2} \\left(\\frac{x^{2}}{y^{2}} + 1\\right)} - \\frac{y}{x^{2} + y^{2}}}$"
      ],
      "text/plain": [
       "     x          1      \n",
       "  ─────── - ────────── \n",
       "   2    2     ⎛ 2    ⎞ \n",
       "  x  + y      ⎜x     ⎟ \n",
       "            y⋅⎜── + 1⎟ \n",
       "              ⎜ 2    ⎟ \n",
       "              ⎝y     ⎠ \n",
       "───────────────────────\n",
       "       x           y   \n",
       "- ─────────── - ───────\n",
       "     ⎛ 2    ⎞    2    2\n",
       "   2 ⎜x     ⎟   x  + y \n",
       "  y ⋅⎜── + 1⎟          \n",
       "     ⎜ 2    ⎟          \n",
       "     ⎝y     ⎠          "
      ]
     },
     "execution_count": 7,
     "metadata": {},
     "output_type": "execute_result"
    }
   ],
   "source": [
    "-diff(f,x)/diff(f,y)"
   ]
  },
  {
   "cell_type": "markdown",
   "metadata": {},
   "source": [
    "__2.__ Найти производную $y'_{x}$ функции:\n",
    "\n",
    "### \\begin{cases}\n",
    "   y=\\frac{t^2}{t-1}, \\\\\n",
    "   x=\\frac{t}{t^2-1} \n",
    " \\end{cases}"
   ]
  },
  {
   "cell_type": "code",
   "execution_count": 8,
   "metadata": {},
   "outputs": [
    {
     "data": {
      "image/png": "[encoded data removed]",
      "text/latex": [
       "$\\displaystyle \\frac{t^{2}}{t - 1}$"
      ],
      "text/plain": [
       "   2 \n",
       "  t  \n",
       "─────\n",
       "t - 1"
      ]
     },
     "execution_count": 8,
     "metadata": {},
     "output_type": "execute_result"
    }
   ],
   "source": [
    "t=Symbol('t')\n",
    "y=t**2/(t-1)\n",
    "y"
   ]
  },
  {
   "cell_type": "code",
   "execution_count": 10,
   "metadata": {},
   "outputs": [
    {
     "data": {
      "image/png": "[encoded data removed]",
      "text/latex": [
       "$\\displaystyle \\frac{t}{t^{2} - 1}$"
      ],
      "text/plain": [
       "  t   \n",
       "──────\n",
       " 2    \n",
       "t  - 1"
      ]
     },
     "execution_count": 10,
     "metadata": {},
     "output_type": "execute_result"
    }
   ],
   "source": [
    "x=t/(t**2-1)\n",
    "x"
   ]
  },
  {
   "cell_type": "code",
   "execution_count": 11,
   "metadata": {},
   "outputs": [
    {
     "data": {
      "image/png": "[encoded data removed]",
      "text/latex": [
       "$\\displaystyle \\frac{- \\frac{t^{2}}{\\left(t - 1\\right)^{2}} + \\frac{2 t}{t - 1}}{- \\frac{2 t^{2}}{\\left(t^{2} - 1\\right)^{2}} + \\frac{1}{t^{2} - 1}}$"
      ],
      "text/plain": [
       "       2            \n",
       "      t        2⋅t  \n",
       " - ──────── + ───── \n",
       "          2   t - 1 \n",
       "   (t - 1)          \n",
       "────────────────────\n",
       "        2           \n",
       "     2⋅t        1   \n",
       "- ───────── + ──────\n",
       "          2    2    \n",
       "  ⎛ 2    ⎞    t  - 1\n",
       "  ⎝t  - 1⎠          "
      ]
     },
     "execution_count": 11,
     "metadata": {},
     "output_type": "execute_result"
    }
   ],
   "source": [
    "diff(y,t)/diff(x,t)"
   ]
  },
  {
   "cell_type": "markdown",
   "metadata": {},
   "source": [
    "__3.__ Найти производную с помощью логарифмирования:\n",
    "\n",
    "### $$y=(x^2+2)^5\\cdot(3x-x^3)^3$$"
   ]
  },
  {
   "cell_type": "markdown",
   "metadata": {},
   "source": [
    "Решение:\n",
    "### $ y'=(x^2+2)^5\\cdot(3x-x^3)^3 \\cdot (\\frac {5\\cdot2x}{x^2+2} + \\frac{3\\cdot(3-3x^2)}{3x-x^3})=$\n",
    "\n",
    "### $= (x^2+2)^5\\cdot(3x-x^3)^3 \\cdot (\\frac {10x}{x^2+2} + \\frac{9-9x^2}{3x-x^3})$"
   ]
  },
  {
   "cell_type": "code",
   "execution_count": 42,
   "metadata": {},
   "outputs": [
    {
     "data": {
      "image/png": "[encoded data removed]",
      "text/latex": [
       "$\\displaystyle \\log{\\left(x - 2 \\right)}^{3}$"
      ],
      "text/plain": [
       "   3       \n",
       "log (x - 2)"
      ]
     },
     "execution_count": 42,
     "metadata": {},
     "output_type": "execute_result"
    }
   ],
   "source": [
    "x=Symbol('x')\n",
    "y=ln(x-2)**3\n",
    "y"
   ]
  },
  {
   "cell_type": "code",
   "execution_count": 41,
   "metadata": {},
   "outputs": [
    {
     "data": {
      "image/png": "[encoded data removed]",
      "text/latex": [
       "$\\displaystyle \\frac{3 \\log{\\left(x - 2 \\right)}^{2}}{x - 2}$"
      ],
      "text/plain": [
       "     2       \n",
       "3⋅log (x - 2)\n",
       "─────────────\n",
       "    x - 2    "
      ]
     },
     "execution_count": 41,
     "metadata": {},
     "output_type": "execute_result"
    }
   ],
   "source": [
    "diff(y,x)"
   ]
  },
  {
   "cell_type": "code",
   "execution_count": null,
   "metadata": {},
   "outputs": [],
   "source": []
  }
 ],
 "metadata": {
  "kernelspec": {
   "display_name": "Python 3",
   "language": "python",
   "name": "python3"
  },
  "language_info": {
   "codemirror_mode": {
    "name": "ipython",
    "version": 3
   },
   "file_extension": ".py",
   "mimetype": "text/x-python",
   "name": "python",
   "nbconvert_exporter": "python",
   "pygments_lexer": "ipython3",
   "version": "3.7.6"
  }
 },
 "nbformat": 4,
 "nbformat_minor": 4
}
