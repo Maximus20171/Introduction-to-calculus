{
 "cells": [
  {
   "cell_type": "code",
   "execution_count": 18,
   "metadata": {},
   "outputs": [],
   "source": [
    "import numpy as np\n",
    "import pandas as pd\n",
    "from matplotlib import pyplot as plt\n",
    "%matplotlib inline"
   ]
  },
  {
   "cell_type": "markdown",
   "metadata": {},
   "source": [
    "__1.__ Представьте в виде __несократимой__ рациональной дроби:\n",
    "\n",
    "## $а)\\,\\,\\, 0.(216);$\n",
    "\n",
    "##### $$a=0,(216)$$\n",
    "##### $$1000a=216,(216)$$\n",
    "##### $$1000a=216+ 0,(216)$$\n",
    "##### $$1000a=216+ a$$\n",
    "##### $$999a=216$$\n",
    "##### $$a=\\frac{216}{999}$$\n"
   ]
  },
  {
   "cell_type": "markdown",
   "metadata": {},
   "source": [
    "## $б)\\,\\,\\, 1.0(01).$\n",
    "\n",
    "#### $$b=1.0(01)$$\n",
    "#### $$10b=10,(01)$$\n",
    "#### $$10b=10+ 0,(01)$$\n",
    "#### $$10b=10+ \\frac{1}{99}$$\n",
    "#### $$10b=\\frac{991}{99}$$\n",
    "#### $$b=\\frac{991}{990}$$"
   ]
  },
  {
   "cell_type": "markdown",
   "metadata": {},
   "source": [
    "### промежуточные рез-ты\n",
    "\n",
    "#### $$c=0.(01)$$\n",
    "#### $$100c=1.(01)$$\n",
    "#### $$100c=1+0.(01)$$\n",
    "#### $$100c=1+c$$\n",
    "#### $$99c=1$$\n",
    "#### $$c=\\frac{1}{99}$$"
   ]
  },
  {
   "cell_type": "code",
   "execution_count": null,
   "metadata": {},
   "outputs": [],
   "source": []
  },
  {
   "cell_type": "markdown",
   "metadata": {},
   "source": [
    "__2*.__ Пусть $x =\\frac{2}{21}$. Известно, что для некоторого натурального $k$ число $x$ записывается в $k$ - ичной системе счисления как $0.(13)_k = 0, 131313..._k$. Найдите $k$."
   ]
  },
  {
   "cell_type": "markdown",
   "metadata": {},
   "source": [
    "$$\\frac{2}{21}=0.(095238)$$\n",
    "\n",
    "$$0.(095238)=0.(13)_k$$\n",
    "\n",
    "Приведем к 10ой системе счисления:\n",
    "$$ 0.(13)_k=1*k^{-1}+3*k^{-2}+1*k^{-3}+3*k^{-4} $$\n",
    "\n",
    "Получаем уровнение:\n",
    "$$0.095238=1*k^{-1}+3*k^{-2}+1*k^{-3}+3*k^{-4}$$\n",
    "\n",
    "$$- k + \\left(- 3 k^{2} + \\left(0.095238 k^{4} - k^{3}\\right)\\right) = 3$$\n"
   ]
  },
  {
   "cell_type": "code",
   "execution_count": 54,
   "metadata": {},
   "outputs": [
    {
     "data": {
      "image/png": "[encoded data removed]",
      "text/plain": [
       "<Figure size 1080x288 with 1 Axes>"
      ]
     },
     "metadata": {
      "needs_background": "light"
     },
     "output_type": "display_data"
    }
   ],
   "source": [
    "k = np.arange(2, 16)\n",
    "y = -1*k+(-3*k*k+(0.095238*(k**4)-(k**3)))-3\n",
    "x = np.zeros(16)\n",
    "\n",
    "plt.subplots(figsize=(15,4))\n",
    "plt.plot(k, y)\n",
    "plt.plot(x, color = '0.3')\n",
    "\n",
    "plt.vlines(13,ymin=y.min(), ymax = y.max(), color = 'green', linewidth = 2, linestyle = '--')\n",
    "\n",
    "plt.grid()\n",
    "plt.show()"
   ]
  },
  {
   "cell_type": "markdown",
   "metadata": {},
   "source": [
    "Решая уравнение находим $ k=13 $"
   ]
  },
  {
   "cell_type": "code",
   "execution_count": null,
   "metadata": {},
   "outputs": [],
   "source": []
  },
  {
   "attachments": {
    "image.png": {
     "image/png": "[encoded data removed]"
    }
   },
   "cell_type": "markdown",
   "metadata": {},
   "source": [
    "__3.__ Проверьте любым способ, является ли данные логические формулы тавтологией:\n",
    "\n",
    "### $$a)\\,\\,\\, (A \\vee B) \\rightarrow (B \\vee\\overline A)$$\n",
    "\n",
    "![image.png](attachment:image.png)"
   ]
  },
  {
   "cell_type": "markdown",
   "metadata": {},
   "source": [
    "выражение не является тавталогией "
   ]
  },
  {
   "attachments": {
    "image.png": {
     "image/png": "[encoded data removed]"
    }
   },
   "cell_type": "markdown",
   "metadata": {},
   "source": [
    "### $$б)\\,\\,\\, A \\rightarrow (A \\vee (\\overline B \\wedge A))$$\n",
    "\n",
    "![image.png](attachment:image.png)"
   ]
  },
  {
   "cell_type": "markdown",
   "metadata": {},
   "source": [
    "выражение является тавталогией"
   ]
  },
  {
   "cell_type": "code",
   "execution_count": null,
   "metadata": {},
   "outputs": [],
   "source": []
  },
  {
   "cell_type": "markdown",
   "metadata": {},
   "source": [
    "__4.__ Сформулируйте словесно высказывания:\n",
    "### $$a)\\,\\,\\, (\\overline A \\vee B) \\rightarrow \\overline C$$\n",
    "### $$б)\\,\\,\\, C \\rightarrow (A \\vee \\overline B)$$\n",
    "- $A:\\,\\,\\,$ сегодня светит солнце; \n",
    "- $B:\\,\\,\\,$ сегодня сыро; \n",
    "- $C:\\,\\,\\,$ я поеду на дачу. "
   ]
  },
  {
   "cell_type": "markdown",
   "metadata": {},
   "source": [
    "$a)\\,\\,\\, (\\overline A \\vee B) \\rightarrow \\overline C$\n",
    "\n",
    "Если солнце сегодня не светит или сегодня сыро, то я не поеду на дачу"
   ]
  },
  {
   "cell_type": "markdown",
   "metadata": {},
   "source": [
    "$б)\\,\\,\\, C \\rightarrow (A \\vee \\overline B)$\n",
    "\n",
    "Я поеду на дачу, если сегодня светит солнце или сегодня не сыро"
   ]
  },
  {
   "cell_type": "code",
   "execution_count": null,
   "metadata": {},
   "outputs": [],
   "source": []
  },
  {
   "cell_type": "markdown",
   "metadata": {},
   "source": [
    "__5.__  Пользуясь правилом построения противоположного высказывания, запишите утверждения, противоположные следующим:\n",
    "\n",
    "a) На любом курсе каждого факультета есть студенты, сдающие все экзамены на «отлично».\n",
    "\n",
    "\n",
    "$\\forall$ курсе $\\forall$ факультета $\\exists$  студенты, сдающие $\\forall$ экзамены на \"отлично\".\n",
    "\n",
    "\n",
    "\n",
    "\n",
    "б) В любом самолете на рейсе Вашингтон-Москва присутствует хотя бы один сотрудник силовых органов, в каждой пуговице одежды которого вмонтирован микрофон.\n",
    "\n",
    "$\\forall$ самолет на рейсе Вашингтон-Москва $\\exists$ хотя бы один сотрудник силовых органов, в $\\forall$ пуговице одежды которого вмонтирован микрофон."
   ]
  },
  {
   "cell_type": "code",
   "execution_count": null,
   "metadata": {},
   "outputs": [],
   "source": []
  },
  {
   "cell_type": "markdown",
   "metadata": {},
   "source": [
    "__6*.__ Прочитайте высказывания, установите их истинность и постройте отрицания:\n",
    "\n",
    "### $$a)\\,\\,\\, \\forall x\\in\\mathbb{R}\\,\\,\\,\\exists X\\in\\mathbb{R}:\\,\\,\\, X>x;$$\n",
    "### $$б)\\,\\,\\, \\forall y\\in\\Bigl[0; \\frac{\\pi}{2}\\Bigr]\\,\\,\\,\\exists \\varepsilon>0:\\,\\,\\, \\sin y<\\sin(y+\\varepsilon);$$\n",
    "### $$в)\\,\\,\\, \\forall y\\in\\Bigl[0; \\frac{\\pi}{2}\\Bigr)\\,\\,\\,\\exists \\varepsilon>0:\\,\\,\\, \\cos y>\\cos(y+\\varepsilon).$$"
   ]
  },
  {
   "cell_type": "markdown",
   "metadata": {},
   "source": [
    "### $a)\\,\\,\\, \\forall x\\in\\mathbb{R}\\,\\,\\,\\exists X\\in\\mathbb{R}:\\,\\,\\, X>x;$\n",
    "\n",
    "Для любого элемента х прендлежащему множесву дейсвительных чисел есть множесво Х принадлежащие множесву дейсвительных чисел верно выражение X>x\n",
    "\n",
    "на мой взгляд выражение истенно\n",
    "\n",
    "__Отрицание__ $ \\,\\,\\,  \\exists x \\in\\mathbb{R} \\,\\,\\,\\ \\forall X \\in\\mathbb{R}: x>X \\,\\,\\, $"
   ]
  },
  {
   "cell_type": "markdown",
   "metadata": {},
   "source": [
    "### $б)\\,\\,\\, \\forall y\\in\\Bigl[0; \\frac{\\pi}{2}\\Bigr]\\,\\,\\,\\exists \\varepsilon>0:\\,\\,\\, \\sin y<\\sin(y+\\varepsilon);$\n",
    "\n",
    "Любое __y__ принаджелит отрезку $\\Bigl[0; \\frac{\\pi}{2}\\Bigr] $ есть такие $\\varepsilon$ больше 0, для которых верно выражение \n",
    "$ \\sin y<\\sin(y+\\varepsilon) $\n",
    "\n",
    "Выражение истенно т.к. синус __y__ принемает значени от 0 до 1 включительно, и есть такие значения $\\varepsilon $ для которых выражение истенно\n",
    "\n",
    "__Отрицание__ $ \\,\\,\\, \\exists y\\in\\Bigl[0; \\frac{\\pi}{2}\\Bigr]\\,\\,\\,\\ \\forall \\varepsilon>0 \\,\\,\\,: \\sin y>\\sin(y+\\varepsilon);$"
   ]
  },
  {
   "cell_type": "markdown",
   "metadata": {},
   "source": [
    "### $в)\\,\\,\\, \\forall y\\in\\Bigl[0; \\frac{\\pi}{2}\\Bigr)\\,\\,\\,\\exists \\varepsilon>0:\\,\\,\\, \\cos y>\\cos(y+\\varepsilon).$"
   ]
  },
  {
   "cell_type": "markdown",
   "metadata": {},
   "source": [
    "Любое __y__ принаджелит отрезку $\\Bigl[0; \\frac{\\pi}{2}\\Bigr) $ есть такие $\\varepsilon$ больше 0, для которых верно выражение \n",
    "$ \\cos y>\\cos(y+\\varepsilon)$\n",
    "\n",
    "Выражение истенно т.к. косинус __y__ принимает значения от 1 до 0 (исключая 0) и есть такие значения $\\varepsilon $ для которых выражение истенно\n",
    "\n",
    "__Отрицание__ $\\,\\,\\, \\exists y\\in\\Bigl[0; \\frac{\\pi}{2}\\Bigr)\\,\\,\\,\\forall \\varepsilon>0:\\,\\,\\, \\cos y<\\cos(y+\\varepsilon)$"
   ]
  },
  {
   "cell_type": "code",
   "execution_count": null,
   "metadata": {},
   "outputs": [],
   "source": []
  }
 ],
 "metadata": {
  "kernelspec": {
   "display_name": "Python 3",
   "language": "python",
   "name": "python3"
  },
  "language_info": {
   "codemirror_mode": {
    "name": "ipython",
    "version": 3
   },
   "file_extension": ".py",
   "mimetype": "text/x-python",
   "name": "python",
   "nbconvert_exporter": "python",
   "pygments_lexer": "ipython3",
   "version": "3.7.6"
  }
 },
 "nbformat": 4,
 "nbformat_minor": 4
}
