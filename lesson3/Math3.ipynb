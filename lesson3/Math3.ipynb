{
 "cells": [
  {
   "cell_type": "markdown",
   "metadata": {},
   "source": [
    "__1.__ Найти предел последовательности:\n",
    "\n",
    "### $$а)\\,\\,\\,\\,\\lim_{x\\to 6} \\frac{x^2-36}{x^2-x-30}$$"
   ]
  },
  {
   "cell_type": "markdown",
   "metadata": {},
   "source": [
    "Решение:\n",
    "### $$\\lim_{x\\to 6} \\frac{x^2-36}{x^2-x-30}=\\frac{0}{0}$$\n",
    "\n",
    "### $$\\lim_{x\\to 6} \\frac{(x-6)(x+6)}{(x-6)(x+5)}=\\lim_{x\\to 6} \\frac{(x+6)}{(x+5)}=\\frac{12}{11}$$"
   ]
  },
  {
   "cell_type": "markdown",
   "metadata": {},
   "source": [
    "### $$б)\\,\\,\\,\\,\\lim_{x\\to 7} \\frac{x^2-49}{x^2-13x+42}$$"
   ]
  },
  {
   "cell_type": "markdown",
   "metadata": {},
   "source": [
    "Решение:\n",
    "### $$\\lim_{x\\to 7} \\frac{x^2-49}{x^2-13x+42}=\\frac{0}{0}$$\n",
    "\n",
    "### $$\\lim_{x\\to 7} \\frac{(x-7)(x+7)}{(x-7)(x-6)}=\\lim_{x\\to 7} \\frac{(x+7)}{(x-6)}=\\frac{14}{1}=14$$"
   ]
  },
  {
   "cell_type": "markdown",
   "metadata": {},
   "source": [
    "### $$в^*)\\,\\,\\,\\,\\lim_{x\\to 7} \\frac{\\sqrt{x+2}-\\sqrt[3]{x+20}}{\\sqrt[4]{x+9}-2}$$"
   ]
  },
  {
   "cell_type": "markdown",
   "metadata": {},
   "source": [
    "Решение:\n",
    "### $$\\lim_{x\\to 7} \\frac{\\sqrt{x+2}-\\sqrt[3]{x+20}}{\\sqrt[4]{x+9}-2}=(\\frac{0}{0}) $$\n",
    "\n",
    "### $$=\\lim_{x\\to 7} \\frac{\\sqrt{x+2}-\\sqrt[3]{x+20}}{\\sqrt[4]{x+9}-2}\\cdot\\frac{\\sqrt{x+2}+\\sqrt[3]{x+20}}{\\sqrt{x+2}+\\sqrt[3]{x+20}}\\cdot\\frac{\\sqrt[4]{x+9}+2}{\\sqrt[4]{x+9}+2}=$$\n",
    "\n",
    "### $$=\\lim_{x\\to 7} \\frac{x+2-\\sqrt[3]{(x+20)^2}}{\\sqrt{x+9}-4}\\cdot\\frac{2+2}{3+3}=$$\n",
    "\n",
    "### $$=\\lim_{x\\to 7} \\frac{x+2-\\sqrt[3]{(x+20)^2}}{\\sqrt{x+9}-4}\\cdot\\frac{2}{3}\\cdot\\frac{(x+2)^2+(x+2)\\sqrt[3]{(x+20)^2}+\\sqrt[3]{(x+20)^4}}{(x+2)^2+(x+2)\\sqrt[3]{(x+20)^2}+\\sqrt[3]{(x+20)^4}}\\cdot\\frac{\\sqrt{x+9}+4}{\\sqrt{x+9}+4}=$$\n",
    "\n",
    "\n",
    "\n",
    "### $$=\\lim_{x\\to 7} \\frac{(x+2)^3-(x+20)^2}{x+9-16}\\cdot\\frac{2}{3}\\cdot\\frac{4+4}{9^2+9\\cdot9+3^2}=$$\n",
    "\n",
    "### $$=\\lim_{x\\to 7} \\frac{(x+2)^3-(x+20)^2}{x+9-16}\\cdot\\frac{2\\cdot8}{3\\cdot243}=$$\n",
    "\n",
    "### $$=\\lim_{x\\to 7} \\frac{x^3+6x^2+12x+8-x^2-40x-400}{x-7}\\cdot\\frac{2\\cdot8}{3\\cdot243}=$$\n",
    "\n",
    "### $$=\\lim_{x\\to 7} \\frac{x^3+5x^2-28x-392}{x-7}\\cdot\\frac{2\\cdot8}{3\\cdot243}=$$\n",
    "\n",
    "### $$=\\lim_{x\\to 7} \\frac{(x-7)(x^2+12x+56)}{x-7}\\cdot\\frac{2\\cdot8}{3\\cdot243}=$$\n",
    "\n",
    "### $$=\\frac{49+84+56}{1}\\cdot\\frac{2\\cdot8}{3\\cdot243}=$$\n",
    "\n",
    "### $$=\\frac{189}{1}\\cdot\\frac{2\\cdot8}{3\\cdot243}=\\frac{112}{27}$$"
   ]
  },
  {
   "cell_type": "code",
   "execution_count": 1,
   "metadata": {},
   "outputs": [
    {
     "data": {
      "image/png": "[encoded data removed]",
      "text/latex": [
       "$\\displaystyle \\frac{\\sqrt{x + 2} - \\left(x + 20\\right)^{0.333333333333333}}{\\left(x + 9\\right)^{0.25} - 2}$"
      ],
      "text/plain": [
       "  _______           0.333333333333333\n",
       "╲╱ x + 2  - (x + 20)                 \n",
       "─────────────────────────────────────\n",
       "                  0.25               \n",
       "           (x + 9)     - 2           "
      ]
     },
     "execution_count": 1,
     "metadata": {},
     "output_type": "execute_result"
    }
   ],
   "source": [
    "# проверка\n",
    "from sympy import *\n",
    "init_printing()\n",
    "x=Symbol('x')\n",
    "a=(sqrt(x+2)-pow((x+20),1/3))/(pow((x+9),1/4)-2)\n",
    "a"
   ]
  },
  {
   "cell_type": "code",
   "execution_count": 2,
   "metadata": {},
   "outputs": [
    {
     "data": {
      "image/png": "[encoded data removed]",
      "text/latex": [
       "$\\displaystyle 4.14814814814815$"
      ],
      "text/plain": [
       "4.14814814814815"
      ]
     },
     "execution_count": 2,
     "metadata": {},
     "output_type": "execute_result"
    }
   ],
   "source": [
    "limit (a,x,7)"
   ]
  },
  {
   "cell_type": "markdown",
   "metadata": {},
   "source": [
    "### $$г)\\,\\,\\,\\,\\lim_{x\\to 0} \\frac{3x\\,\\mbox{tg}\\,4x}{1-\\cos4x}$$"
   ]
  },
  {
   "cell_type": "markdown",
   "metadata": {},
   "source": [
    "Решение:\n",
    "### $$ \\lim_{x\\to 0} \\frac{3x\\,\\mbox{tg}\\,4x}{1-\\cos4x}=\\lim_{x\\to 0} \\frac{3x\\cdot 4x}{2 \\sin^2{2x}}=\\lim_{x\\to 0} \\frac{3x\\cdot 4x}{2\\cdot 4x^2}=\\frac{3}{2}$$"
   ]
  },
  {
   "cell_type": "markdown",
   "metadata": {},
   "source": [
    "### $$д^{**})\\,\\,\\,\\,\\lim_{x\\to 0} \\frac{\\sqrt2x^2\\sin4x}{(1-\\cos2x)^{\\frac{3}{2}}}$$"
   ]
  },
  {
   "cell_type": "markdown",
   "metadata": {},
   "source": [
    "Решение:\n",
    "### $$ \\lim_{x\\to 0} \\frac{\\sqrt2x^2\\sin4x}{(1-\\cos2x)^{\\frac{3}{2}}}=\\lim_{x\\to 0} 4\\sqrt2 \\frac{x^3}{(2sin^2x)^{3/2}}=$$\n",
    "### $$ \\lim_{x\\to 0} \\frac{4\\sqrt2}{2\\sqrt2}\\cdot\\frac{x^3}{(x^2)^{3/2}}=$$\n",
    "\n",
    "### $$=\\lim_{x\\to 0} \\frac{4\\sqrt2x^3}{2\\sqrt{2}|x^3|}=\\pm2$$\n",
    "\n",
    "Если предел в точке существует, то он единственный. Поэтому в этом примере предела в точке не существует."
   ]
  },
  {
   "cell_type": "markdown",
   "metadata": {},
   "source": [
    "### $$е)\\,\\,\\,\\,\\lim_{x\\to \\infty} \\Bigr(\\frac{4x}{4x+3}\\Bigl)^\\frac{5x^2}{7x-1}$$"
   ]
  },
  {
   "cell_type": "markdown",
   "metadata": {},
   "source": [
    "Решение\n",
    "### $$\\lim_{x\\to \\infty} \\Bigr(\\frac{4x}{4x+3}\\Bigl)^\\frac{5x^2}{7x-1}=(1)^\\infty=$$\n",
    "\n",
    "### $$=e^{\\lim_{x\\to \\infty} \\Bigr(\\frac{4x}{4x+3}-1\\Bigl)\\cdot\\frac{5x^2}{7x-1}}=$$\n",
    "\n",
    "### $$=e^{\\lim_{x\\to \\infty} \\frac{-3}{4x+3}\\cdot\\frac{5x^2}{7x-1}}=$$\n",
    "\n",
    "### $$=e^{\\frac{-3\\cdot5}{4\\cdot7}}=e^{-\\frac{15}{28}}$$"
   ]
  },
  {
   "cell_type": "markdown",
   "metadata": {},
   "source": [
    "### $$ж^*)\\,\\,\\,\\,\\lim_{x\\to +0} \\frac{5^x-1}{x}$$"
   ]
  },
  {
   "cell_type": "markdown",
   "metadata": {},
   "source": [
    "Решение\n",
    "\n",
    "### $$\\lim_{x\\to +0} \\frac{5^x-1}{x}=\\Bigl(\\frac{0}{0}\\Bigr)=$$\n",
    "\n",
    "### $$\\lim_{x\\to +0} \\frac{e^{x\\ln5}-1}{x}=$$\n",
    "\n",
    "### $$\\lim_{x\\to +0} \\frac{\\ln5(e^{x\\ln5}-1)}{x\\ln5}=\\ln5$$"
   ]
  },
  {
   "cell_type": "code",
   "execution_count": null,
   "metadata": {},
   "outputs": [],
   "source": []
  },
  {
   "cell_type": "code",
   "execution_count": null,
   "metadata": {},
   "outputs": [],
   "source": []
  }
 ],
 "metadata": {
  "kernelspec": {
   "display_name": "Python 3",
   "language": "python",
   "name": "python3"
  },
  "language_info": {
   "codemirror_mode": {
    "name": "ipython",
    "version": 3
   },
   "file_extension": ".py",
   "mimetype": "text/x-python",
   "name": "python",
   "nbconvert_exporter": "python",
   "pygments_lexer": "ipython3",
   "version": "3.7.6"
  }
 },
 "nbformat": 4,
 "nbformat_minor": 4
}
