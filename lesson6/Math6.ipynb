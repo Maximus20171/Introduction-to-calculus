{
 "cells": [
  {
   "cell_type": "markdown",
   "metadata": {},
   "source": [
    "__1.__ Найти частные производные первого и второго порядка. Убедиться в равенстве смешанных производных.\n",
    "\n",
    "### $$U=x^3+3xy^2+z^2-39x-36y+2z+26$$"
   ]
  },
  {
   "cell_type": "markdown",
   "metadata": {},
   "source": [
    "Решение:\n",
    "### $U_{x}'=3x^2+3y^2-39$\n",
    "### $U_{y}'=6yx-36$\n",
    "### $U_{z}'=2z+2$\n",
    "\n",
    "### $U''_{xx}=6x$\n",
    "### $U''_{xy}=6y$\n",
    "### $U''_{xz}=0$\n",
    "\n",
    "### $U''_{yx}=6y$\n",
    "### $U''_{yy}=0$\n",
    "### $U''_{yz}=0$\n",
    "\n",
    "### $U''_{zx}=0$\n",
    "### $U''_{zy}=0$\n",
    "### $U''_{zz}=2$\n",
    "\n",
    "### $U''_{xz}=U''_{zx}$\n",
    "### $U''_{xy}=U''_{yx}$"
   ]
  },
  {
   "cell_type": "markdown",
   "metadata": {},
   "source": [
    "__2.__ Найти частные производные первого и второго порядка. Убедиться в равенстве смешанных производных.\n",
    "\n",
    "### $$U=\\frac{256}{x}+\\frac{x^2}{y}+\\frac{y^2}{z}+z^2$$"
   ]
  },
  {
   "cell_type": "markdown",
   "metadata": {},
   "source": [
    "Решение:\n",
    "### $U_{x}'=-\\frac{256}{x^2}+\\frac{2x}{y}$\n",
    "### $U_{y}'=-\\frac{x^2}{y^2}+\\frac{2y}{z}$\n",
    "### $U_{z}'=-\\frac{y^2}{z^2}+2z$\n",
    "\n",
    "### $U''_{xx}=\\frac{512}{x^3}+\\frac{2}{y}$\n",
    "### $U''_{xy}=-\\frac{2x}{y^2}$\n",
    "### $U''_{xz}=0$\n",
    "\n",
    "### $U''_{yx}=-\\frac{2x}{y^2}$\n",
    "### $U''_{yy}=\\frac{2x^2}{y^3}+\\frac{2}{z}$\n",
    "### $U''_{yz}=-\\frac{2y}{z^2}$\n",
    "\n",
    "### $U''_{xz}=U''_{zx}$\n",
    "### $U''_{xy}=U''_{yx}$"
   ]
  },
  {
   "cell_type": "markdown",
   "metadata": {},
   "source": [
    "__3.__ Найти производную функции $U=x^2+y^2+z^2$ по направлению вектора $\\overrightarrow{c}(-9,8,-12)$ в точке $M(8,-12,9)$"
   ]
  },
  {
   "cell_type": "markdown",
   "metadata": {},
   "source": [
    "Решение:\n",
    "\n",
    "Найдем длину вектора $\\overrightarrow{c}$:\n",
    "### $|\\overrightarrow{c}|=\\sqrt{x^2_{0}+y^2_{0}+z^2_{0}}=\\sqrt{(-9)^2+8^2+(-12)^2}=\\sqrt{289}=17$\n",
    "\n",
    "Запишем единичный вектор $\\overrightarrow{c}_{0}$:\n",
    "\n",
    "### $\\overrightarrow{c_{0}}=\\frac{\\overrightarrow{c}}{|\\overrightarrow{c}|}=\\Bigr(-\\frac{9}{17},\\frac{8}{17},-\\frac{12}{17}\\Bigl)$\n",
    "\n",
    "Теперь найдем градиент в точке M(8,-12,9).\n",
    "\n",
    "### $U'_{x}=2x$\n",
    "\n",
    "### $U'_{y}=2y$\n",
    "\n",
    "### $U'_{z}=2z$\n",
    "\n",
    "### $$\\mbox{grad}U=(16,-24,18)$$\n",
    "\n",
    "Осталось посчитать значение производной\n",
    "\n",
    "### $U'_{\\overrightarrow{b}}=-\\frac{9}{17}\\cdot 16+\\frac{8}{17}\\cdot (-24)-\\frac{12}{17}\\cdot 18=\\frac{-144-192-216}{17}=-\\frac{552}{17}$"
   ]
  },
  {
   "cell_type": "markdown",
   "metadata": {},
   "source": [
    "__4.__ Найти производную функции $U=e^{x^2+y^2+z^2}$ по направлению вектора $\\overrightarrow{c}(4,-13,-16)$ в точке $L(-16,4,-13)$"
   ]
  },
  {
   "cell_type": "markdown",
   "metadata": {},
   "source": [
    "Решение:\n",
    "\n",
    "Найдем длину вектора $\\overrightarrow{c}$:\n",
    "### $|\\overrightarrow{c}|=\\sqrt{x^2_{0}+y^2_{0}+z^2_{0}}=\\sqrt{(4)^2+(-13)^2+(-16)^2}=\\sqrt{441}=21$\n",
    "\n",
    "Запишем единичный вектор $\\overrightarrow{c}_{0}$:\n",
    "\n",
    "### $\\overrightarrow{c_{0}}=\\frac{\\overrightarrow{c}}{|\\overrightarrow{c}|}=\\Bigr(\\frac{4}{21},-\\frac{13}{21},-\\frac{16}{21}\\Bigl)$\n",
    "\n",
    "Теперь найдем градиент в точке L(-16,4,-13).\n",
    "\n",
    "### $U'_{x}=2xe^{x^2+y^2+z^2}$\n",
    "\n",
    "### $U'_{y}=2ye^{x^2+y^2+z^2}$\n",
    "\n",
    "### $U'_{z}=2ze^{x^2+y^2+z^2}$\n",
    "\n",
    "### $$\\mbox{grad}U=(-32e^{441},8e^{441},-26e^{441})$$\n",
    "\n",
    "Осталось посчитать значение производной\n",
    "\n",
    "### $U'_{\\overrightarrow{b}}=\\frac{4}{21}\\cdot (-32e^{441})-\\frac{13}{21}\\cdot 8e^{441}-\\frac{16}{21}\\cdot (-26e^{441})=\\frac{e^{441}(-128-104+416)}{21}=\\frac{184e^{441}}{21}$\n"
   ]
  },
  {
   "cell_type": "markdown",
   "metadata": {},
   "source": [
    "__5.__ Исследовать на экстремум функцию:\n",
    "\n",
    "### $$U=x^2y+\\frac{1}{3}y^3+2x^2+3y^2-1$$"
   ]
  },
  {
   "cell_type": "markdown",
   "metadata": {},
   "source": [
    "Решение:\n",
    "Найдем частные производные, приравняем их к нулю и найдем стационарные точки:\n",
    "\n",
    "### $$\\begin{cases}\n",
    "   U'_{x}=2xy+4x=0, \\\\\n",
    "   U'_{y}=x^2+y^2+6y=0 \n",
    " \\end{cases}$$\n",
    " \n",
    " ### $$\\begin{cases}\n",
    "   U'_{x}=2x(y+2)=0, \\\\\n",
    "   U'_{y}=x^2+y^2+6y=0 \n",
    " \\end{cases}$$\n",
    " \n",
    " Из первого уровнения получаем точку (0,-2). но данный ответ не является правильным т.к. второе уравнение не выполняется. Подставим во втором уравнеем х=0. Получаем $y_{1}=-6$ и $y_{2}=0$ Итого 2 точки: (0,-6);(0,0)"
   ]
  },
  {
   "cell_type": "markdown",
   "metadata": {},
   "source": [
    "Теперь найдем вторые производные и составим матрицу Гёссе в общем виде:\n",
    " \n",
    "###  $$U''_{xx}=2y+4$$ $$U''_{xy}=U''_{yx}=2x$$  $$U''_{yy}=2y+6$$"
   ]
  },
  {
   "cell_type": "markdown",
   "metadata": {},
   "source": [
    "Видно, что от переменных зависит все значения\n",
    "\n",
    "###  $$\\begin{pmatrix}\n",
    "2y+4 & 2x\\\\ \n",
    "2x & 2y+6\\\\\n",
    "\\end{pmatrix}$$"
   ]
  },
  {
   "cell_type": "markdown",
   "metadata": {},
   "source": [
    "теперь можно вычислить главные миноры \n",
    "\n",
    "### $$\\Delta_{1}=U''_{xx}=2y+4$$\n",
    "\n",
    "### $$\\Delta_{2}=\\begin{vmatrix}\n",
    "U''_{xx} & U''_{xy}\\\\ \n",
    "U''_{yx} & U''_{yy}\\\\\n",
    "\\end{vmatrix}=U''_{xx}\\cdot U''_{yy}-(U''_{xy})^2=(2y+4) \\cdot (2y+6) - (8x)^2=4y^2+20y+24-64x^2$$\n"
   ]
  },
  {
   "cell_type": "markdown",
   "metadata": {},
   "source": [
    "Осталось проверить знаки миноров для каждой точки. \n",
    "\n",
    "Для точки $(0,-6)$\n",
    "\n",
    "### $$\\Delta_{1}=U''_{xx}=2 \\cdot (-6)+4=-8<0$$\n",
    "\n",
    "### $$\\Delta_{2}=\\begin{vmatrix}\n",
    "U''_{xx} & U''_{xy}\\\\ \n",
    "U''_{yx} & U''_{yy}\\\\\n",
    "\\end{vmatrix}=U''_{xx}\\cdot U''_{yy}-(U''_{xy})^2=4\\cdot(-6)^2+20\\cdot(-6)+24-64\\cdot0^2=48>0$$\n",
    "\n",
    "Первый минор отрицательный, второй поменял знак. Это говорит о том, что найденная точка (0,6) является точкой максимума.\n"
   ]
  },
  {
   "cell_type": "markdown",
   "metadata": {},
   "source": [
    "Осталось проверить знаки миноров для каждой точки. \n",
    "\n",
    "Для точки $(0,0)$\n",
    "\n",
    "### $$\\Delta_{1}=U''_{xx}=2 \\cdot (0)+4=4>0$$\n",
    "\n",
    "### $$\\Delta_{2}=\\begin{vmatrix}\n",
    "U''_{xx} & U''_{xy}\\\\ \n",
    "U''_{yx} & U''_{yy}\\\\\n",
    "\\end{vmatrix}=U''_{xx}\\cdot U''_{yy}-(U''_{xy})^2=4\\cdot0^2+20\\cdot0+24-64\\cdot0^2=24>0$$\n",
    "\n",
    "Все миноры положительные. Это говорит о том, что найденная точка (0,0) является точкой минимума."
   ]
  },
  {
   "cell_type": "code",
   "execution_count": null,
   "metadata": {},
   "outputs": [],
   "source": []
  },
  {
   "cell_type": "code",
   "execution_count": null,
   "metadata": {},
   "outputs": [],
   "source": []
  }
 ],
 "metadata": {
  "kernelspec": {
   "display_name": "Python 3",
   "language": "python",
   "name": "python3"
  },
  "language_info": {
   "codemirror_mode": {
    "name": "ipython",
    "version": 3
   },
   "file_extension": ".py",
   "mimetype": "text/x-python",
   "name": "python",
   "nbconvert_exporter": "python",
   "pygments_lexer": "ipython3",
   "version": "3.7.6"
  }
 },
 "nbformat": 4,
 "nbformat_minor": 4
}
